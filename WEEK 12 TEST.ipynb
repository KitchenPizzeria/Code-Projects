{
 "cells": [
  {
   "cell_type": "markdown",
   "metadata": {
    "slideshow": {
     "slide_type": "-"
    }
   },
   "source": [
    "# MTH5001 Introduction to Computer Programming\n",
    "\n",
    "##  Week 12 Test (Session 2)\n",
    "\n",
    "### Duration: 40 minutes"
   ]
  },
  {
   "cell_type": "markdown",
   "metadata": {},
   "source": [
    "This test has a total of 5 questions, worth 20 marks each. Answer each question in the code cell(s) provided, using Python code. \n",
    "\n",
    "**ATTEMPT ALL QUESTIONS.**\n",
    "\n",
    "This test is **OPEN BOOK**: \n",
    "-  You may use any printed material (e.g. books, handwritten notes), and you may access the internet on your lab PC (e.g. QMPlus, Python documentation). \n",
    "- You may not communicate, nor attempt to communicate, with anyone else, nor solicit assistance in any way (e.g. via email, Facebook). \n",
    "- With the exception of your lab PC, you may not use any electronic devices; details of all internet activity on your lab PC may be logged. \n",
    "\n",
    "You may do rough work on your own paper, which will not be collected by the invigilators.\n",
    "\n",
    "**CALCULATORS MAY NOT BE USED IN THIS TEST.**"
   ]
  },
  {
   "cell_type": "markdown",
   "metadata": {},
   "source": [
    "### Question 1 [20 Marks]"
   ]
  },
  {
   "cell_type": "markdown",
   "metadata": {},
   "source": [
    "##### Change the `for` loop to a `while` loop in the code below.\n",
    "```python\n",
    "import numpy as np\n",
    "s=0\n",
    "for n in range(1,100,2):\n",
    "    s=s+1/n**4\n",
    "print(s*96/np.pi**4)\n",
    "```\n",
    "The output of the `while` loop must be identical to the output of the `for` loop."
   ]
  },
  {
   "cell_type": "code",
   "execution_count": 5,
   "metadata": {},
   "outputs": [
    {
     "name": "stdout",
     "output_type": "stream",
     "text": [
      "0.9999998255175105\n"
     ]
    }
   ],
   "source": [
    "import numpy as np\n",
    "s=0\n",
    "n = 1\n",
    "while n != 99:\n",
    "    s=s+1/n**4\n",
    "    n+=2\n",
    "print(s*96/np.pi**4)"
   ]
  },
  {
   "cell_type": "markdown",
   "metadata": {},
   "source": [
    "### Question 2 [20 Marks]"
   ]
  },
  {
   "cell_type": "markdown",
   "metadata": {},
   "source": [
    "By using Newton's method, or otherwise, find both real roots $x_1$ and $x_2$ of $f(x)=4-x+\\cos(x)/x$. Print out the two tuples $(x_1, f(x_1))$ and $(x_2,f(x_2))$."
   ]
  },
  {
   "cell_type": "code",
   "execution_count": 6,
   "metadata": {},
   "outputs": [
    {
     "name": "stdout",
     "output_type": "stream",
     "text": [
      "Computed approximate RF solution.\n"
     ]
    },
    {
     "data": {
      "text/plain": [
       "3.7896146861172397"
      ]
     },
     "execution_count": 6,
     "metadata": {},
     "output_type": "execute_result"
    }
   ],
   "source": [
    "def regula_falsi(f,a,b,N):\n",
    "    if f(a)==0:\n",
    "        print (\"Found exact solution using RF Method.\")\n",
    "        return a\n",
    "    if f(b)==0:\n",
    "        print (\"Found exact solution using RF Method.\")\n",
    "        return b\n",
    "    if f(a)*f(b)>0: \n",
    "        print(\"RF method fails.\")\n",
    "        return None\n",
    "    for n in range(N):\n",
    "        m=(a*f(b)-b*f(a))/(f(b)-f(a))\n",
    "        if f(m)==0:\n",
    "            print (\"Found exact solution using Regula Falsi Method.\")\n",
    "            return m\n",
    "        # step 3.\n",
    "        if f(a)*f(m)<0:  \n",
    "            b=m\n",
    "        elif f(m)*f(b)<0:\n",
    "            a=m\n",
    "        else: \n",
    "            print(\"Regula Falsi method fails.\")\n",
    "            return None\n",
    "    print(\"Computed approximate RF solution.\")\n",
    "    return (a*f(b)-b*f(a))/(f(b)-f(a))\n",
    "\n",
    "f = lambda x: 4-x+np.cos(x)/x\n",
    "\n",
    "regula_falsi(f,1,5,20)"
   ]
  },
  {
   "cell_type": "markdown",
   "metadata": {},
   "source": [
    "### Question 3 [20 Marks]"
   ]
  },
  {
   "cell_type": "markdown",
   "metadata": {},
   "source": [
    "Produce an array containing a table showing whether $i$ and $j$ are co-prime, for $i$ and $j$ from 1 to 19. The nineteen rows and columns should contain $1$ if $i$ and $j$ have a common factor greater than $1$, and $0$ otherwise."
   ]
  },
  {
   "cell_type": "code",
   "execution_count": null,
   "metadata": {
    "collapsed": true
   },
   "outputs": [],
   "source": []
  },
  {
   "cell_type": "markdown",
   "metadata": {},
   "source": [
    "### Question 4 [20 Marks]"
   ]
  },
  {
   "cell_type": "markdown",
   "metadata": {},
   "source": [
    "Correct the following Python codes so that they get executed without error. In each case, you should add, remove, or change at most three characters (where a tab for indentation would count as one character).\n",
    "\n",
    "1.\n",
    "```python\n",
    "def iszero(x):\n",
    "    return x=0\n",
    "print(iszero(0),iszero(1))\n",
    "```\n",
    "2.\n",
    "```python\n",
    "u=(1.0,2.0,3.0)\n",
    "v=(4.0)\n",
    "print(u+v)\n",
    "```\n",
    "3.\n",
    "```python\n",
    "if x==0: print(1)\n",
    "    else: print(2)\n",
    "```\n",
    "4.\n",
    "```python\n",
    "include numpy as np\n",
    "A=np.array([[1,2,3],[4,5,6],[7,8,9]])\n",
    "print(A)\n",
    "```"
   ]
  },
  {
   "cell_type": "code",
   "execution_count": null,
   "metadata": {
    "collapsed": true
   },
   "outputs": [],
   "source": []
  },
  {
   "cell_type": "markdown",
   "metadata": {},
   "source": [
    "### Question 5 [20 Marks]"
   ]
  },
  {
   "cell_type": "markdown",
   "metadata": {},
   "source": [
    "Draw a picture of an orange \"butterfly\" on a green background by colouring points $(x,y)\\in[-1.5,1.5]\\times[-1,1]$ for which $x^6+y^6<x^2$. The size of the picture should be $600\\times400$ pixels. "
   ]
  },
  {
   "cell_type": "code",
   "execution_count": null,
   "metadata": {
    "collapsed": true
   },
   "outputs": [],
   "source": [
    "from PIL import Image\n",
    "\n",
    "Butterfly = Image.new(\"RGB\",(600,400))\n",
    "\n",
    "I"
   ]
  },
  {
   "cell_type": "markdown",
   "metadata": {},
   "source": [
    "## Submit your Jupyter Notebook to QMPLUS"
   ]
  },
  {
   "cell_type": "markdown",
   "metadata": {},
   "source": [
    "Once you are done, save your Jupyter Notebook and submit it to QMPLUS as per the invigilators' instructions."
   ]
  }
 ],
 "metadata": {
  "kernelspec": {
   "display_name": "Python 3",
   "language": "python",
   "name": "python3"
  },
  "language_info": {
   "codemirror_mode": {
    "name": "ipython",
    "version": 3
   },
   "file_extension": ".py",
   "mimetype": "text/x-python",
   "name": "python",
   "nbconvert_exporter": "python",
   "pygments_lexer": "ipython3",
   "version": "3.6.1"
  }
 },
 "nbformat": 4,
 "nbformat_minor": 2
}
