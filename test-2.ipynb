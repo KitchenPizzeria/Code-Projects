{
 "cells": [
  {
   "cell_type": "markdown",
   "metadata": {
    "slideshow": {
     "slide_type": "-"
    }
   },
   "source": [
    "# MTH5001 Introduction to Computer Programming\n",
    "\n",
    "##  Week 7 Test (Session 2)\n",
    "\n",
    "### Duration: 40 minutes"
   ]
  },
  {
   "cell_type": "markdown",
   "metadata": {},
   "source": [
    "This test has a total of 5 questions, worth 20 marks each. Answer each question in the code cell(s) provided, using Python code. \n",
    "\n",
    "**ATTEMPT ALL QUESTIONS.**\n",
    "\n",
    "This test is **OPEN BOOK**: \n",
    "-  You may use any printed material (e.g. books, handwritten notes), and you may access the internet on your lab PC (e.g. QMPlus, Python documentation). \n",
    "- You may not communicate, nor attempt to communicate, with anyone else, nor solicit assistance in any way (e.g. via email, Facebook). \n",
    "- With the exception of your lab PC, you may not use any electronic devices; details of all internet activity on your lab PC may be logged. \n",
    "\n",
    "You may do rough work on your own paper, which will not be collected by the invigilators.\n",
    "\n",
    "**CALCULATORS MAY NOT BE USED IN THIS TEST.**"
   ]
  },
  {
   "cell_type": "markdown",
   "metadata": {},
   "source": [
    "### Question 1 [20 Marks]"
   ]
  },
  {
   "cell_type": "markdown",
   "metadata": {},
   "source": [
    "Compute the following (print all of your answers in the same code cell):\n",
    "\n",
    "1. $\\sqrt[5]{7776}$,\n",
    "2. $\\cos(-\\pi/6)$,\n",
    "3. $\\exp(\\sin(2))$,\n",
    "4. $i+1/i$. "
   ]
  },
  {
   "cell_type": "code",
   "execution_count": 5,
   "metadata": {},
   "outputs": [
    {
     "name": "stdout",
     "output_type": "stream",
     "text": [
      "6.000000000000001\n",
      "0.866025403784\n",
      "2.48257772802\n",
      "0j\n"
     ]
    }
   ],
   "source": [
    "import numpy as np\n",
    "print(7776**(1/5))\n",
    "print(np.cos(-np.pi/6))\n",
    "print(np.exp(np.sin(2)))\n",
    "print(1j + 1/1j)"
   ]
  },
  {
   "cell_type": "markdown",
   "metadata": {},
   "source": [
    "### Question 2 [20 Marks]"
   ]
  },
  {
   "cell_type": "markdown",
   "metadata": {},
   "source": [
    "Plot a graph of the function \n",
    "\n",
    "$$\n",
    "f(x)=\\frac{\\exp(x)}{x^3} \\quad \\text{for} \\quad 1\\leq x\\leq 10\n",
    "$$\n",
    "\n",
    "using an orange line for the graph. Label the $x$-axis and the $y$-axis by 'x' and 'exp(x)/x^3', respectively."
   ]
  },
  {
   "cell_type": "code",
   "execution_count": 12,
   "metadata": {},
   "outputs": [
    {
     "data": {
      "image/png": "[encoded data removed]",
      "text/plain": [
       "<matplotlib.figure.Figure at 0x115d5ef588>"
      ]
     },
     "metadata": {},
     "output_type": "display_data"
    }
   ],
   "source": [
    "import matplotlib.pyplot as plot\n",
    "import numpy as np\n",
    "x = np.linspace(1,10)\n",
    "plot.plot(x,np.exp(x)/(x**3),color=\"Orange\")\n",
    "plot.xlabel(\"x\")\n",
    "plot.ylabel(\"exp(x)/x^3\")\n",
    "plot.show()"
   ]
  },
  {
   "cell_type": "markdown",
   "metadata": {},
   "source": [
    "### Question 3 [20 Marks]"
   ]
  },
  {
   "cell_type": "markdown",
   "metadata": {},
   "source": [
    "Print a list of the integers\n",
    "\n",
    "$$2, 6, 10, 14, \\ldots, 34$$\n",
    "\n",
    "in three different ways: by\n",
    "\n",
    "1. writing the list explicitly,\n",
    "1. using the `range()` function,\n",
    "2. using list comprehension."
   ]
  },
  {
   "cell_type": "code",
   "execution_count": 14,
   "metadata": {},
   "outputs": [
    {
     "name": "stdout",
     "output_type": "stream",
     "text": [
      "[2, 6, 10, 14, 18, 22, 26, 30, 34]\n",
      "[2, 6, 10, 14, 18, 22, 26, 30, 34]\n",
      "[2, 6, 10, 14, 18, 22, 26, 30, 34]\n"
     ]
    }
   ],
   "source": [
    "print([2,6,10,14,18,22,26,30,34])\n",
    "print([i for i in range(2,35,4)])\n",
    "print([4*i-2 for i in range(1,10)])"
   ]
  },
  {
   "cell_type": "markdown",
   "metadata": {},
   "source": [
    "### Question 4 [20 Marks]"
   ]
  },
  {
   "cell_type": "markdown",
   "metadata": {},
   "source": [
    "Write a Python function `vector_sum()` that computes the sum $(x_1+y_1,x_2+y_2,\\ldots,x_n+y_n)$ of two $n$-dimensional vectors $x=(x_1,x_2,\\ldots,x_n)$ and $y=(y_1,x_2,\\ldots,y_n)$. The inputs of your function should be two lists representing the vectors $x$ and $y$.\n",
    "\n",
    "Use your function to compute the sum of the $3$-dimensional vectors $(-1,2,7)$ and $(2,-4,6)$ by copying and running the following command:\n",
    "\n",
    "```python\n",
    "print(vector_sum([-1,2,7],[2,-4,6]))\n",
    "```"
   ]
  },
  {
   "cell_type": "code",
   "execution_count": 16,
   "metadata": {},
   "outputs": [
    {
     "name": "stdout",
     "output_type": "stream",
     "text": [
      "12\n"
     ]
    }
   ],
   "source": [
    "def vector_sum(X,Y):\n",
    "    n = len(X)\n",
    "    VectorSumList= [X[i]+Y[i] for i in range(n)]\n",
    "    return sum(VectorSumList)\n",
    "print(vector_sum([-1,2,7],[2,-4,6]))"
   ]
  },
  {
   "cell_type": "markdown",
   "metadata": {},
   "source": [
    "### Question 5 [20 Marks]"
   ]
  },
  {
   "cell_type": "markdown",
   "metadata": {},
   "source": [
    "Write a Python function `g()` that implements the function $g:\\mathbb R \\to \\mathbb R$ given by\n",
    "\n",
    "$$g(x)=\\begin{cases}x^3+1&\\text{if $x \\geq 1$}\\\\ 2&\\text{if $x<1$,}\\end{cases}$$\n",
    "\n",
    "by copying\n",
    "```python\n",
    "def g(x):\n",
    "    # put your code here\n",
    "    return \n",
    "```\n",
    "into the code cell below and filling in the missing code.\n",
    "\n",
    "Evaluate $g(-1)$ and $g(g(-1))$ by copying and running the following commands:\n",
    "\n",
    "```python\n",
    "print(g(-1))\n",
    "print(g(g(-1)))\n",
    "```"
   ]
  },
  {
   "cell_type": "code",
   "execution_count": 31,
   "metadata": {},
   "outputs": [
    {
     "name": "stdout",
     "output_type": "stream",
     "text": [
      "2\n",
      "9\n"
     ]
    }
   ],
   "source": [
    "def g(x):\n",
    "    if x >=1 :\n",
    "        return x**3+1\n",
    "    elif x < 1:\n",
    "        return 2\n",
    "\n",
    "print(g(-1))\n",
    "print(g(g(-1)))"
   ]
  },
  {
   "cell_type": "markdown",
   "metadata": {},
   "source": [
    "## Submit your Jupyter Notebook to QMPLUS"
   ]
  },
  {
   "cell_type": "markdown",
   "metadata": {},
   "source": [
    "Once you are done, save your Jupyter Notebook and submit it to QMPLUS as per the invigilators' instructions."
   ]
  }
 ],
 "metadata": {
  "kernelspec": {
   "display_name": "Python 3",
   "language": "python",
   "name": "python3"
  },
  "language_info": {
   "codemirror_mode": {
    "name": "ipython",
    "version": 3
   },
   "file_extension": ".py",
   "mimetype": "text/x-python",
   "name": "python",
   "nbconvert_exporter": "python",
   "pygments_lexer": "ipython3",
   "version": "3.6.1"
  }
 },
 "nbformat": 4,
 "nbformat_minor": 2
}
